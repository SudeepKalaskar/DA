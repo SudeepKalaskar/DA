{
 "cells": [
  {
   "cell_type": "code",
   "execution_count": 1,
   "id": "bcf03aa1-2edf-4362-87d6-ddd5e735fdd0",
   "metadata": {},
   "outputs": [
    {
     "name": "stdout",
     "output_type": "stream",
     "text": [
      "Hello World!\n"
     ]
    }
   ],
   "source": [
    "print(\"Hello World!\")"
   ]
  },
  {
   "cell_type": "markdown",
   "id": "59d9e62a-f0db-45bb-8d96-69d5632ede23",
   "metadata": {},
   "source": [
    "This is jupyter nootebook"
   ]
  },
  {
   "cell_type": "markdown",
   "id": "14c99c08-92b9-4459-a2f9-61e59549ce2e",
   "metadata": {},
   "source": [
    "# Data analytics"
   ]
  },
  {
   "cell_type": "markdown",
   "id": "b651c4ee-0b00-4c27-868a-e8d5be922833",
   "metadata": {},
   "source": [
    "## This class belongs to data analytics leads by pavankumar sir"
   ]
  },
  {
   "cell_type": "markdown",
   "id": "2b696e3f-1aed-410c-82c1-81d64f3bdac8",
   "metadata": {},
   "source": [
    "* Statistics\n",
    "* Numpy\n",
    "* Panda\n",
    "* Matplotlib\n",
    "* Seaborn"
   ]
  },
  {
   "cell_type": "code",
   "execution_count": 3,
   "id": "b321d941-0a8c-4ea5-98ee-0a8aa7ec5018",
   "metadata": {},
   "outputs": [
    {
     "data": {
      "text/plain": [
       "345"
      ]
     },
     "execution_count": 3,
     "metadata": {},
     "output_type": "execute_result"
    }
   ],
   "source": [
    "a = 345\n",
    "a"
   ]
  },
  {
   "cell_type": "code",
   "execution_count": 7,
   "id": "e14f15e0-75da-4f39-963e-0520078fa3e2",
   "metadata": {},
   "outputs": [
    {
     "name": "stdout",
     "output_type": "stream",
     "text": [
      "34\n",
      "45\n",
      "654\n"
     ]
    }
   ],
   "source": [
    "x = 34\n",
    "print(x)\n",
    "y = 45\n",
    "print(y)\n",
    "x = 654\n",
    "print(x)"
   ]
  },
  {
   "cell_type": "code",
   "execution_count": 1,
   "id": "6247db79-9838-41b5-8d34-52008e7e96a5",
   "metadata": {},
   "outputs": [],
   "source": [
    "a = 12\n",
    "b = 12\n",
    "c = [1,2,3]\n",
    "d = c.copy()"
   ]
  },
  {
   "cell_type": "code",
   "execution_count": 2,
   "id": "1c1e925b-cfb3-46d4-b263-35040c7140cf",
   "metadata": {},
   "outputs": [
    {
     "data": {
      "text/plain": [
       "12"
      ]
     },
     "execution_count": 2,
     "metadata": {},
     "output_type": "execute_result"
    }
   ],
   "source": [
    "a"
   ]
  },
  {
   "cell_type": "code",
   "execution_count": 3,
   "id": "04093252-6518-440d-a414-a0f808ff3485",
   "metadata": {},
   "outputs": [
    {
     "data": {
      "text/plain": [
       "[1, 2, 3]"
      ]
     },
     "execution_count": 3,
     "metadata": {},
     "output_type": "execute_result"
    }
   ],
   "source": [
    "d"
   ]
  },
  {
   "cell_type": "code",
   "execution_count": 4,
   "id": "db292367-0439-445c-ad87-631550b06645",
   "metadata": {},
   "outputs": [
    {
     "data": {
      "text/plain": [
       "12"
      ]
     },
     "execution_count": 4,
     "metadata": {},
     "output_type": "execute_result"
    }
   ],
   "source": [
    "b"
   ]
  },
  {
   "cell_type": "code",
   "execution_count": 5,
   "id": "4a60ce9a-f0e2-4baf-8bcc-bc3f115e5c49",
   "metadata": {},
   "outputs": [
    {
     "data": {
      "text/plain": [
       "[1, 2, 3]"
      ]
     },
     "execution_count": 5,
     "metadata": {},
     "output_type": "execute_result"
    }
   ],
   "source": [
    "c"
   ]
  },
  {
   "cell_type": "code",
   "execution_count": null,
   "id": "44b92a78-e58b-4bce-b659-250c252cec7f",
   "metadata": {},
   "outputs": [],
   "source": []
  }
 ],
 "metadata": {
  "kernelspec": {
   "display_name": "Python 3 (ipykernel)",
   "language": "python",
   "name": "python3"
  },
  "language_info": {
   "codemirror_mode": {
    "name": "ipython",
    "version": 3
   },
   "file_extension": ".py",
   "mimetype": "text/x-python",
   "name": "python",
   "nbconvert_exporter": "python",
   "pygments_lexer": "ipython3",
   "version": "3.12.0"
  }
 },
 "nbformat": 4,
 "nbformat_minor": 5
}
