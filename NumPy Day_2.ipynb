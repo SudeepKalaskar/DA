{
 "cells": [
  {
   "cell_type": "code",
   "execution_count": 1,
   "id": "3ca0206e-8ef1-4e92-a48d-369bd6f3a809",
   "metadata": {},
   "outputs": [],
   "source": [
    "import numpy as np"
   ]
  },
  {
   "cell_type": "code",
   "execution_count": 10,
   "id": "3984c2f7-79f2-471d-9b11-e27b9d13af86",
   "metadata": {},
   "outputs": [],
   "source": [
    "def info_array(a):\n",
    "    print(\"Dimension -\", a.ndim)\n",
    "    print(\"Shape -\", a.shape)\n",
    "    print(\"Size (Number of elements) -\", a.size)\n",
    "    print(\"Datatype -\", a.dtype)"
   ]
  },
  {
   "cell_type": "code",
   "execution_count": 11,
   "id": "e5213e64-c264-476c-ad80-7c434e82d237",
   "metadata": {},
   "outputs": [
    {
     "data": {
      "text/plain": [
       "array([ 0,  1,  2,  3,  4,  5,  6,  7,  8,  9, 10, 11])"
      ]
     },
     "execution_count": 11,
     "metadata": {},
     "output_type": "execute_result"
    }
   ],
   "source": [
    "arr1 = np.arange(12)\n",
    "arr1"
   ]
  },
  {
   "cell_type": "code",
   "execution_count": 17,
   "id": "52559e7d-ea4e-447e-92d6-58ca0a658698",
   "metadata": {},
   "outputs": [
    {
     "name": "stdout",
     "output_type": "stream",
     "text": [
      "Dimension - 1\n",
      "Shape - (12,)\n",
      "Size (Number of elements) - 12\n",
      "Datatype - int32\n"
     ]
    }
   ],
   "source": [
    "info_array(arr1)"
   ]
  },
  {
   "cell_type": "markdown",
   "id": "0a3386ee-d25d-46d9-a8b2-b0a831e62959",
   "metadata": {},
   "source": [
    "### Numpy Notes\n",
    "* arange - to create range of elememt - np.arange(start, end, step)\n",
    "* linspace - to create the range of element with number of element. this will calculate step size by its own, it will also include the start and end value - np.linspace(start, end, number_of_element)\n",
    "* reshape - change the shape of array np.reshape(row, column), while reshaping array the size of array should not change\n",
    "* resize - changes the size of an array with given dimension, we can change array in any size, it is not dependent on how many number of element present in your array\n",
    "  "
   ]
  },
  {
   "cell_type": "code",
   "execution_count": 18,
   "id": "6bbac6ab-6a67-4c4d-9eb7-92c5efaa3ead",
   "metadata": {},
   "outputs": [
    {
     "data": {
      "text/plain": [
       "array([1.        , 1.03030303, 1.06060606, 1.09090909, 1.12121212,\n",
       "       1.15151515, 1.18181818, 1.21212121, 1.24242424, 1.27272727,\n",
       "       1.3030303 , 1.33333333, 1.36363636, 1.39393939, 1.42424242,\n",
       "       1.45454545, 1.48484848, 1.51515152, 1.54545455, 1.57575758,\n",
       "       1.60606061, 1.63636364, 1.66666667, 1.6969697 , 1.72727273,\n",
       "       1.75757576, 1.78787879, 1.81818182, 1.84848485, 1.87878788,\n",
       "       1.90909091, 1.93939394, 1.96969697, 2.        ])"
      ]
     },
     "execution_count": 18,
     "metadata": {},
     "output_type": "execute_result"
    }
   ],
   "source": [
    "arr2 = np.linspace(1, 2, 34)\n",
    "arr2"
   ]
  },
  {
   "cell_type": "code",
   "execution_count": 19,
   "id": "53d7346f-69a7-4526-9962-453a4149c4e7",
   "metadata": {},
   "outputs": [
    {
     "data": {
      "text/plain": [
       "array([10., 17., 24., 31., 38., 45.])"
      ]
     },
     "execution_count": 19,
     "metadata": {},
     "output_type": "execute_result"
    }
   ],
   "source": [
    "arr3 = np.linspace(10, 45, 6)\n",
    "arr3"
   ]
  },
  {
   "cell_type": "code",
   "execution_count": 21,
   "id": "b62812e6-1d30-4dd0-9d54-797a528eddd3",
   "metadata": {},
   "outputs": [
    {
     "data": {
      "text/plain": [
       "array([1.        , 3.66666667, 6.33333333, 9.        ])"
      ]
     },
     "execution_count": 21,
     "metadata": {},
     "output_type": "execute_result"
    }
   ],
   "source": [
    "arr4 = np.linspace(1, 9, 4)\n",
    "arr4"
   ]
  },
  {
   "cell_type": "code",
   "execution_count": 23,
   "id": "15048056-e077-4e92-b75c-297283fcdac1",
   "metadata": {
    "scrolled": true
   },
   "outputs": [
    {
     "data": {
      "text/plain": [
       "array([1.        , 1.03225806, 1.06451613, 1.09677419, 1.12903226,\n",
       "       1.16129032, 1.19354839, 1.22580645, 1.25806452, 1.29032258,\n",
       "       1.32258065, 1.35483871, 1.38709677, 1.41935484, 1.4516129 ,\n",
       "       1.48387097, 1.51612903, 1.5483871 , 1.58064516, 1.61290323,\n",
       "       1.64516129, 1.67741935, 1.70967742, 1.74193548, 1.77419355,\n",
       "       1.80645161, 1.83870968, 1.87096774, 1.90322581, 1.93548387,\n",
       "       1.96774194, 2.        , 2.03225806, 2.06451613, 2.09677419,\n",
       "       2.12903226, 2.16129032, 2.19354839, 2.22580645, 2.25806452,\n",
       "       2.29032258, 2.32258065, 2.35483871, 2.38709677, 2.41935484,\n",
       "       2.4516129 , 2.48387097, 2.51612903, 2.5483871 , 2.58064516,\n",
       "       2.61290323, 2.64516129, 2.67741935, 2.70967742, 2.74193548,\n",
       "       2.77419355, 2.80645161, 2.83870968, 2.87096774, 2.90322581,\n",
       "       2.93548387, 2.96774194, 3.        , 3.03225806, 3.06451613,\n",
       "       3.09677419, 3.12903226, 3.16129032, 3.19354839, 3.22580645,\n",
       "       3.25806452, 3.29032258, 3.32258065, 3.35483871, 3.38709677,\n",
       "       3.41935484, 3.4516129 , 3.48387097, 3.51612903, 3.5483871 ,\n",
       "       3.58064516, 3.61290323, 3.64516129, 3.67741935, 3.70967742,\n",
       "       3.74193548, 3.77419355, 3.80645161, 3.83870968, 3.87096774,\n",
       "       3.90322581, 3.93548387, 3.96774194, 4.        , 4.03225806,\n",
       "       4.06451613, 4.09677419, 4.12903226, 4.16129032, 4.19354839,\n",
       "       4.22580645, 4.25806452, 4.29032258, 4.32258065, 4.35483871,\n",
       "       4.38709677, 4.41935484, 4.4516129 , 4.48387097, 4.51612903,\n",
       "       4.5483871 , 4.58064516, 4.61290323, 4.64516129, 4.67741935,\n",
       "       4.70967742, 4.74193548, 4.77419355, 4.80645161, 4.83870968,\n",
       "       4.87096774, 4.90322581, 4.93548387, 4.96774194, 5.        ])"
      ]
     },
     "execution_count": 23,
     "metadata": {},
     "output_type": "execute_result"
    }
   ],
   "source": [
    "arr5 = np.linspace(1, 5, 125)\n",
    "arr5"
   ]
  },
  {
   "cell_type": "code",
   "execution_count": 24,
   "id": "02814024-ed66-4b10-95cf-255c0c1820b9",
   "metadata": {},
   "outputs": [
    {
     "name": "stdout",
     "output_type": "stream",
     "text": [
      "Dimension - 1\n",
      "Shape - (125,)\n",
      "Size (Number of elements) - 125\n",
      "Datatype - float64\n"
     ]
    }
   ],
   "source": [
    "info_array(arr5)"
   ]
  },
  {
   "cell_type": "code",
   "execution_count": 33,
   "id": "f42b47ff-5721-41ee-ba11-d729f8e490d7",
   "metadata": {},
   "outputs": [
    {
     "data": {
      "text/plain": [
       "array([ 1,  2,  3,  4,  5,  6,  7,  8,  9, 10, 11, 12, 13, 14, 15, 16, 17,\n",
       "       18, 19, 20, 21, 22, 23, 24])"
      ]
     },
     "execution_count": 33,
     "metadata": {},
     "output_type": "execute_result"
    }
   ],
   "source": [
    "arr6 = np.linspace(1, 24, 24, dtype=\"int\")\n",
    "arr6"
   ]
  },
  {
   "cell_type": "code",
   "execution_count": 34,
   "id": "82a391a5-76c9-48fa-9c85-c7fd1e03dd98",
   "metadata": {},
   "outputs": [
    {
     "data": {
      "text/plain": [
       "(24,)"
      ]
     },
     "execution_count": 34,
     "metadata": {},
     "output_type": "execute_result"
    }
   ],
   "source": [
    "arr6.shape"
   ]
  },
  {
   "cell_type": "code",
   "execution_count": 39,
   "id": "5e90de9b-b682-4b29-8be3-f284df7e5af0",
   "metadata": {},
   "outputs": [
    {
     "data": {
      "text/plain": [
       "array([[ 1,  2,  3,  4,  5,  6],\n",
       "       [ 7,  8,  9, 10, 11, 12],\n",
       "       [13, 14, 15, 16, 17, 18],\n",
       "       [19, 20, 21, 22, 23, 24]])"
      ]
     },
     "execution_count": 39,
     "metadata": {},
     "output_type": "execute_result"
    }
   ],
   "source": [
    "arr6.reshape(4, 6)"
   ]
  },
  {
   "cell_type": "code",
   "execution_count": 40,
   "id": "763ad944-bea8-467a-b159-fddb891d1d28",
   "metadata": {},
   "outputs": [
    {
     "data": {
      "text/plain": [
       "array([[ 1,  2,  3,  4],\n",
       "       [ 5,  6,  7,  8],\n",
       "       [ 9, 10, 11, 12],\n",
       "       [13, 14, 15, 16],\n",
       "       [17, 18, 19, 20],\n",
       "       [21, 22, 23, 24]])"
      ]
     },
     "execution_count": 40,
     "metadata": {},
     "output_type": "execute_result"
    }
   ],
   "source": [
    "arr6.reshape(6, 4)"
   ]
  },
  {
   "cell_type": "code",
   "execution_count": 41,
   "id": "efe6c5ae-9ed5-46d6-9774-999fefa5c6ba",
   "metadata": {},
   "outputs": [],
   "source": [
    "# Reshape above array with following shapes - (12, 2), (2, 12), (8, 3), (3, 8), (3, 4, 2)"
   ]
  },
  {
   "cell_type": "code",
   "execution_count": 42,
   "id": "95410beb-351d-4870-bd82-666c2a099186",
   "metadata": {},
   "outputs": [
    {
     "data": {
      "text/plain": [
       "array([[[ 1,  2],\n",
       "        [ 3,  4],\n",
       "        [ 5,  6],\n",
       "        [ 7,  8]],\n",
       "\n",
       "       [[ 9, 10],\n",
       "        [11, 12],\n",
       "        [13, 14],\n",
       "        [15, 16]],\n",
       "\n",
       "       [[17, 18],\n",
       "        [19, 20],\n",
       "        [21, 22],\n",
       "        [23, 24]]])"
      ]
     },
     "execution_count": 42,
     "metadata": {},
     "output_type": "execute_result"
    }
   ],
   "source": [
    "arr6.reshape(3,4,2)"
   ]
  },
  {
   "cell_type": "code",
   "execution_count": 44,
   "id": "71ad9ed8-f938-438d-8e66-7dbf50ffa4a9",
   "metadata": {},
   "outputs": [
    {
     "data": {
      "text/plain": [
       "(3, 4, 2)"
      ]
     },
     "execution_count": 44,
     "metadata": {},
     "output_type": "execute_result"
    }
   ],
   "source": [
    "np.shape(arr6.reshape(3,4,2))"
   ]
  },
  {
   "cell_type": "code",
   "execution_count": 45,
   "id": "8e7aba47-180b-4eac-82a0-a7b38eb2de5a",
   "metadata": {},
   "outputs": [
    {
     "data": {
      "text/plain": [
       "array([ 1,  2,  3,  4,  5,  6,  7,  8,  9, 10, 11, 12, 13, 14, 15, 16, 17,\n",
       "       18, 19, 20, 21, 22, 23, 24])"
      ]
     },
     "execution_count": 45,
     "metadata": {},
     "output_type": "execute_result"
    }
   ],
   "source": [
    "arr6"
   ]
  },
  {
   "cell_type": "code",
   "execution_count": 46,
   "id": "90fe8480-d325-43db-ae40-841c24c51721",
   "metadata": {},
   "outputs": [
    {
     "data": {
      "text/plain": [
       "array([[ 1,  2,  3,  4],\n",
       "       [ 5,  6,  7,  8],\n",
       "       [ 9, 10, 11, 12],\n",
       "       [13, 14, 15, 16],\n",
       "       [17, 18, 19, 20],\n",
       "       [21, 22, 23, 24]])"
      ]
     },
     "execution_count": 46,
     "metadata": {},
     "output_type": "execute_result"
    }
   ],
   "source": [
    "arr6 = arr6.reshape(6,4)\n",
    "arr6"
   ]
  },
  {
   "cell_type": "code",
   "execution_count": 47,
   "id": "d8ffcbf4-d0f7-43bb-b589-c866b05f1df7",
   "metadata": {},
   "outputs": [
    {
     "data": {
      "text/plain": [
       "array([ 1,  2,  3,  4,  5,  6,  7,  8,  9, 10, 11, 12, 13, 14, 15, 16, 17,\n",
       "       18, 19, 20, 21, 22, 23, 24])"
      ]
     },
     "execution_count": 47,
     "metadata": {},
     "output_type": "execute_result"
    }
   ],
   "source": [
    "arr6.reshape(24)"
   ]
  },
  {
   "cell_type": "code",
   "execution_count": 49,
   "id": "7e1c5f67-7598-4826-8dfe-fda4260e9547",
   "metadata": {},
   "outputs": [
    {
     "data": {
      "text/plain": [
       "array([[ 1,  2,  3,  4,  5,  6,  7,  8,  9, 10, 11, 12, 13, 14, 15, 16,\n",
       "        17, 18, 19, 20, 21, 22, 23, 24]])"
      ]
     },
     "execution_count": 49,
     "metadata": {},
     "output_type": "execute_result"
    }
   ],
   "source": [
    "arr6.reshape(1, -1)"
   ]
  },
  {
   "cell_type": "code",
   "execution_count": 50,
   "id": "f920a5b0-a37b-43df-849d-5692a2e9e27f",
   "metadata": {},
   "outputs": [
    {
     "data": {
      "text/plain": [
       "(1, 24)"
      ]
     },
     "execution_count": 50,
     "metadata": {},
     "output_type": "execute_result"
    }
   ],
   "source": [
    "arr6.reshape(1, -1).shape"
   ]
  },
  {
   "cell_type": "code",
   "execution_count": 51,
   "id": "2c6f6f4d-2c89-4b23-8340-fc60ccf8ae1b",
   "metadata": {},
   "outputs": [
    {
     "data": {
      "text/plain": [
       "(24,)"
      ]
     },
     "execution_count": 51,
     "metadata": {},
     "output_type": "execute_result"
    }
   ],
   "source": [
    "arr6.reshape(24).shape"
   ]
  },
  {
   "cell_type": "code",
   "execution_count": 52,
   "id": "27ba8c93-a5a4-4de4-be7b-ee88807749b0",
   "metadata": {},
   "outputs": [
    {
     "data": {
      "text/plain": [
       "array([[ 1,  2,  3,  4],\n",
       "       [ 5,  6,  7,  8],\n",
       "       [ 9, 10, 11, 12],\n",
       "       [13, 14, 15, 16],\n",
       "       [17, 18, 19, 20],\n",
       "       [21, 22, 23, 24]])"
      ]
     },
     "execution_count": 52,
     "metadata": {},
     "output_type": "execute_result"
    }
   ],
   "source": [
    "arr6"
   ]
  },
  {
   "cell_type": "code",
   "execution_count": 53,
   "id": "35f9dd0c-6005-4385-ada4-9902c68d3a3f",
   "metadata": {},
   "outputs": [
    {
     "data": {
      "text/plain": [
       "array([ 1,  2,  3,  4,  5,  6,  7,  8,  9, 10, 11, 12, 13, 14, 15, 16, 17,\n",
       "       18, 19, 20, 21, 22, 23, 24])"
      ]
     },
     "execution_count": 53,
     "metadata": {},
     "output_type": "execute_result"
    }
   ],
   "source": [
    "arr6.reshape(24)"
   ]
  },
  {
   "cell_type": "code",
   "execution_count": 56,
   "id": "a74af93c-2f6d-46f6-94fb-05d3d44900b1",
   "metadata": {},
   "outputs": [
    {
     "data": {
      "text/plain": [
       "array([ 1,  2,  3,  4,  5,  6,  7,  8,  9, 10, 11, 12, 13, 14, 15, 16, 17,\n",
       "       18, 19, 20, 21, 22, 23, 24])"
      ]
     },
     "execution_count": 56,
     "metadata": {},
     "output_type": "execute_result"
    }
   ],
   "source": [
    "arr6.ravel(\"C\") # C Programming"
   ]
  },
  {
   "cell_type": "code",
   "execution_count": 55,
   "id": "3337cbf8-b90c-49c1-8ad1-b9326b5b92dc",
   "metadata": {},
   "outputs": [
    {
     "data": {
      "text/plain": [
       "array([ 1,  5,  9, 13, 17, 21,  2,  6, 10, 14, 18, 22,  3,  7, 11, 15, 19,\n",
       "       23,  4,  8, 12, 16, 20, 24])"
      ]
     },
     "execution_count": 55,
     "metadata": {},
     "output_type": "execute_result"
    }
   ],
   "source": [
    "arr6.ravel(\"F\") # FORTRON 77 Programming"
   ]
  },
  {
   "cell_type": "code",
   "execution_count": 57,
   "id": "1a908e70-2481-48a9-8b24-c50c5df2247f",
   "metadata": {},
   "outputs": [],
   "source": [
    "arr6.resize(8,3)"
   ]
  },
  {
   "cell_type": "code",
   "execution_count": 58,
   "id": "db119b46-cc4a-4ff8-8e81-7b39cd7daaab",
   "metadata": {},
   "outputs": [
    {
     "data": {
      "text/plain": [
       "array([[ 1,  2,  3],\n",
       "       [ 4,  5,  6],\n",
       "       [ 7,  8,  9],\n",
       "       [10, 11, 12],\n",
       "       [13, 14, 15],\n",
       "       [16, 17, 18],\n",
       "       [19, 20, 21],\n",
       "       [22, 23, 24]])"
      ]
     },
     "execution_count": 58,
     "metadata": {},
     "output_type": "execute_result"
    }
   ],
   "source": [
    "arr6"
   ]
  },
  {
   "cell_type": "code",
   "execution_count": 59,
   "id": "519526f9-be91-4249-b36d-dacf383abb5d",
   "metadata": {},
   "outputs": [
    {
     "data": {
      "text/plain": [
       "array([[ 1,  2,  3,  4,  5,  6,  7,  8],\n",
       "       [ 9, 10, 11, 12, 13, 14, 15, 16],\n",
       "       [17, 18, 19, 20, 21, 22, 23, 24]])"
      ]
     },
     "execution_count": 59,
     "metadata": {},
     "output_type": "execute_result"
    }
   ],
   "source": [
    "arr6.resize(3,8)\n",
    "arr6"
   ]
  },
  {
   "cell_type": "markdown",
   "id": "ea434709-9bed-47cd-a5f1-cced63119193",
   "metadata": {
    "scrolled": true
   },
   "source": [
    "arr6.resize(7, 5) # Not Possible"
   ]
  },
  {
   "cell_type": "code",
   "execution_count": 62,
   "id": "2a009b6d-9d15-41bb-8798-f89fc2272bd4",
   "metadata": {},
   "outputs": [
    {
     "data": {
      "text/plain": [
       "array([[ 1,  2,  3,  4,  5],\n",
       "       [ 6,  7,  8,  9, 10],\n",
       "       [11, 12, 13, 14, 15],\n",
       "       [16, 17, 18, 19, 20],\n",
       "       [21, 22, 23, 24,  1],\n",
       "       [ 2,  3,  4,  5,  6],\n",
       "       [ 7,  8,  9, 10, 11]])"
      ]
     },
     "execution_count": 62,
     "metadata": {},
     "output_type": "execute_result"
    }
   ],
   "source": [
    "np.resize(arr6, (7, 5))  # Possible"
   ]
  },
  {
   "cell_type": "code",
   "execution_count": 63,
   "id": "f3f1b3aa-151a-4592-86a4-a359b992bc69",
   "metadata": {},
   "outputs": [
    {
     "data": {
      "text/plain": [
       "array([[ 1,  2,  3,  4],\n",
       "       [ 5,  6,  7,  8],\n",
       "       [ 9, 10, 11, 12]])"
      ]
     },
     "execution_count": 63,
     "metadata": {},
     "output_type": "execute_result"
    }
   ],
   "source": [
    "np.resize(arr6, (3,4))"
   ]
  },
  {
   "cell_type": "code",
   "execution_count": 65,
   "id": "055df2e1-17f8-4244-ba0e-2afa7d1295f0",
   "metadata": {},
   "outputs": [
    {
     "data": {
      "text/plain": [
       "array([[ 4,  5,  6,  7],\n",
       "       [ 8,  9, 10, 11],\n",
       "       [12, 13, 14, 15]])"
      ]
     },
     "execution_count": 65,
     "metadata": {},
     "output_type": "execute_result"
    }
   ],
   "source": [
    "arr7 = np.arange(4, 16).reshape(3,4)\n",
    "arr7"
   ]
  },
  {
   "cell_type": "code",
   "execution_count": 67,
   "id": "94c87126-388c-4c48-955e-d36eb4a8ac1b",
   "metadata": {},
   "outputs": [
    {
     "data": {
      "text/plain": [
       "array([[ 4,  5,  6,  7],\n",
       "       [ 8,  9, 10, 11],\n",
       "       [12, 13, 14, 15],\n",
       "       [ 4,  5,  6,  7],\n",
       "       [ 8,  9, 10, 11]])"
      ]
     },
     "execution_count": 67,
     "metadata": {},
     "output_type": "execute_result"
    }
   ],
   "source": [
    "np.resize(arr7, (5,4))"
   ]
  },
  {
   "cell_type": "code",
   "execution_count": 68,
   "id": "e57ef51a-631d-4613-b977-c64980ca2075",
   "metadata": {},
   "outputs": [
    {
     "data": {
      "text/plain": [
       "array([[1, 2, 3],\n",
       "       [4, 5, 6]])"
      ]
     },
     "execution_count": 68,
     "metadata": {},
     "output_type": "execute_result"
    }
   ],
   "source": [
    "arr8 = np.arange(1, 7).reshape(2, 3)\n",
    "arr8"
   ]
  },
  {
   "cell_type": "code",
   "execution_count": 70,
   "id": "7a4a84e1-c4da-46e4-b776-7a7984ca829b",
   "metadata": {},
   "outputs": [
    {
     "data": {
      "text/plain": [
       "array([[ 7,  8,  9],\n",
       "       [10, 11, 12]])"
      ]
     },
     "execution_count": 70,
     "metadata": {},
     "output_type": "execute_result"
    }
   ],
   "source": [
    "arr9 = np.arange(7, 13).reshape(2, 3)\n",
    "arr9"
   ]
  },
  {
   "cell_type": "markdown",
   "id": "b831b10d-a36b-4ded-940d-4e2fbf9218c6",
   "metadata": {},
   "source": [
    "#### Concatinate\n",
    "* this function is used to join two or more array by column or row, default is row\n",
    "* to join array column wise need to provide axis=1\n",
    "* to join two or more array the dimension of an array should be exactly same"
   ]
  },
  {
   "cell_type": "code",
   "execution_count": 74,
   "id": "55280c8e-2fe8-44fc-88f6-cc9124a1efbb",
   "metadata": {},
   "outputs": [
    {
     "data": {
      "text/plain": [
       "array([[ 1,  2,  3],\n",
       "       [ 4,  5,  6],\n",
       "       [ 7,  8,  9],\n",
       "       [10, 11, 12]])"
      ]
     },
     "execution_count": 74,
     "metadata": {},
     "output_type": "execute_result"
    }
   ],
   "source": [
    "np.concatenate([arr8, arr9])"
   ]
  },
  {
   "cell_type": "code",
   "execution_count": 75,
   "id": "c82a83d5-c95a-48b9-9198-a2f1a4711fc3",
   "metadata": {},
   "outputs": [
    {
     "data": {
      "text/plain": [
       "array([[ 1,  2,  3,  7,  8,  9],\n",
       "       [ 4,  5,  6, 10, 11, 12]])"
      ]
     },
     "execution_count": 75,
     "metadata": {},
     "output_type": "execute_result"
    }
   ],
   "source": [
    "np.concatenate([arr8, arr9], axis=1)"
   ]
  },
  {
   "cell_type": "code",
   "execution_count": 76,
   "id": "6d812f78-8db7-4782-b2a2-a976f7d59d37",
   "metadata": {},
   "outputs": [
    {
     "data": {
      "text/plain": [
       "array([[ 1,  2,  3],\n",
       "       [ 4,  5,  6],\n",
       "       [ 7,  8,  9],\n",
       "       [10, 11, 12]])"
      ]
     },
     "execution_count": 76,
     "metadata": {},
     "output_type": "execute_result"
    }
   ],
   "source": [
    "np.concatenate([arr8, arr9], axis=0)"
   ]
  },
  {
   "cell_type": "code",
   "execution_count": 78,
   "id": "0a5073c5-5fe9-4dd1-859d-fb69adcfd044",
   "metadata": {},
   "outputs": [
    {
     "data": {
      "text/plain": [
       "array([[13, 14],\n",
       "       [15, 16],\n",
       "       [17, 18]])"
      ]
     },
     "execution_count": 78,
     "metadata": {},
     "output_type": "execute_result"
    }
   ],
   "source": [
    "arr10 = np.arange(13, 19).reshape(3,2)\n",
    "arr10"
   ]
  },
  {
   "cell_type": "markdown",
   "id": "e6243f07-b01c-4202-9b84-ef3639e741b5",
   "metadata": {},
   "source": [
    "#### hstack - Horizontal Stack\n",
    "* used to stack the array in horizontal manner - column join"
   ]
  },
  {
   "cell_type": "code",
   "execution_count": 82,
   "id": "446c2433-0786-4c71-9089-a894f1122f13",
   "metadata": {},
   "outputs": [
    {
     "data": {
      "text/plain": [
       "array([[ 1,  2,  3,  7,  8,  9],\n",
       "       [ 4,  5,  6, 10, 11, 12]])"
      ]
     },
     "execution_count": 82,
     "metadata": {},
     "output_type": "execute_result"
    }
   ],
   "source": [
    "np.hstack([arr8, arr9])"
   ]
  },
  {
   "cell_type": "markdown",
   "id": "f7b3a120-d9da-4503-a8dd-f4a44f377d18",
   "metadata": {},
   "source": [
    "#### vstack - Verticle Stack\n",
    "* Used to stack array in verticle manner - row join"
   ]
  },
  {
   "cell_type": "code",
   "execution_count": 83,
   "id": "cc5566b8-13f2-406b-be38-b9dfb4140152",
   "metadata": {},
   "outputs": [
    {
     "data": {
      "text/plain": [
       "array([[ 1,  2,  3],\n",
       "       [ 4,  5,  6],\n",
       "       [ 7,  8,  9],\n",
       "       [10, 11, 12]])"
      ]
     },
     "execution_count": 83,
     "metadata": {},
     "output_type": "execute_result"
    }
   ],
   "source": [
    "np.vstack([arr8, arr9])"
   ]
  },
  {
   "cell_type": "code",
   "execution_count": 86,
   "id": "7d064710-e862-4993-9450-36d6cb4ab46d",
   "metadata": {},
   "outputs": [
    {
     "data": {
      "text/plain": [
       "array([0, 1, 2])"
      ]
     },
     "execution_count": 86,
     "metadata": {},
     "output_type": "execute_result"
    }
   ],
   "source": [
    "arr11 = np.arange(3)\n",
    "arr11"
   ]
  },
  {
   "cell_type": "markdown",
   "id": "4a769b2e-7191-4a2a-add4-c0b1050d024c",
   "metadata": {},
   "source": [
    "#### repeat\n",
    "* used to duplicate elements in array"
   ]
  },
  {
   "cell_type": "code",
   "execution_count": 87,
   "id": "6ab2aad7-e9f2-4c1d-81a3-63090f1d1627",
   "metadata": {},
   "outputs": [
    {
     "data": {
      "text/plain": [
       "array([0, 0, 0, 1, 1, 1, 2, 2, 2])"
      ]
     },
     "execution_count": 87,
     "metadata": {},
     "output_type": "execute_result"
    }
   ],
   "source": [
    "arr11.repeat(3)"
   ]
  },
  {
   "cell_type": "code",
   "execution_count": 88,
   "id": "7c79b5f8-c12f-4d62-ae74-5c1314e4c20f",
   "metadata": {},
   "outputs": [
    {
     "data": {
      "text/plain": [
       "array([0, 0, 0, 0, 0, 0, 0, 0, 0, 0, 0, 0, 0, 0, 0, 0, 0, 0, 0, 0, 0, 0,\n",
       "       0, 1, 1, 1, 1, 1, 1, 1, 1, 1, 1, 1, 1, 1, 1, 1, 1, 1, 1, 1, 1, 1,\n",
       "       1, 1, 2, 2, 2, 2, 2, 2, 2, 2, 2, 2, 2, 2, 2, 2, 2, 2, 2, 2, 2, 2,\n",
       "       2, 2, 2])"
      ]
     },
     "execution_count": 88,
     "metadata": {},
     "output_type": "execute_result"
    }
   ],
   "source": [
    "arr11.repeat(23)"
   ]
  },
  {
   "cell_type": "code",
   "execution_count": 90,
   "id": "98658fbe-fd99-4711-b0bc-16e3e5e8f7de",
   "metadata": {},
   "outputs": [
    {
     "data": {
      "text/plain": [
       "array([0, 0, 0, 1, 1, 1, 1, 1, 2, 2, 2, 2, 2, 2])"
      ]
     },
     "execution_count": 90,
     "metadata": {},
     "output_type": "execute_result"
    }
   ],
   "source": [
    "arr11.repeat([3, 5, 6])"
   ]
  },
  {
   "cell_type": "markdown",
   "id": "13482a8c-c97a-4ae6-a49b-acabc4c4731d",
   "metadata": {},
   "source": [
    "#### Identity Matrix\n",
    "* np.eye() used to create identity matrix, where diagonal element became 1 and rest of the element will be 0"
   ]
  },
  {
   "cell_type": "code",
   "execution_count": 92,
   "id": "05ba9ae1-743d-4d5c-98e9-33b2e5c082d9",
   "metadata": {},
   "outputs": [
    {
     "data": {
      "text/plain": [
       "array([[1., 0., 0.],\n",
       "       [0., 1., 0.],\n",
       "       [0., 0., 1.]])"
      ]
     },
     "execution_count": 92,
     "metadata": {},
     "output_type": "execute_result"
    }
   ],
   "source": [
    "np.eye(3,3)"
   ]
  },
  {
   "cell_type": "code",
   "execution_count": 95,
   "id": "8b6cc5c0-6eaa-4969-a4da-70f87ff04e7c",
   "metadata": {},
   "outputs": [
    {
     "data": {
      "text/plain": [
       "array([[1., 0., 0., 0., 0., 0., 0.],\n",
       "       [0., 1., 0., 0., 0., 0., 0.],\n",
       "       [0., 0., 1., 0., 0., 0., 0.]])"
      ]
     },
     "execution_count": 95,
     "metadata": {},
     "output_type": "execute_result"
    }
   ],
   "source": [
    "np.eye(3,7)"
   ]
  },
  {
   "cell_type": "code",
   "execution_count": 96,
   "id": "50a89131-b087-4194-8aec-7412ad91a60a",
   "metadata": {},
   "outputs": [
    {
     "data": {
      "text/plain": [
       "array([[1., 0.],\n",
       "       [0., 1.]])"
      ]
     },
     "execution_count": 96,
     "metadata": {},
     "output_type": "execute_result"
    }
   ],
   "source": [
    "np.eye(2,2)"
   ]
  },
  {
   "cell_type": "code",
   "execution_count": 97,
   "id": "1eeaaaed-225c-491d-b185-243437688d57",
   "metadata": {},
   "outputs": [
    {
     "data": {
      "text/plain": [
       "array([[1., 0., 0., 0.],\n",
       "       [0., 1., 0., 0.],\n",
       "       [0., 0., 1., 0.],\n",
       "       [0., 0., 0., 1.]])"
      ]
     },
     "execution_count": 97,
     "metadata": {},
     "output_type": "execute_result"
    }
   ],
   "source": [
    "np.eye(4,4)"
   ]
  },
  {
   "cell_type": "code",
   "execution_count": 98,
   "id": "92f59824-e10e-46a9-a310-f55bf3c842ec",
   "metadata": {},
   "outputs": [
    {
     "data": {
      "text/plain": [
       "array([[0., 0., 0., 0., 1., 0., 0.],\n",
       "       [0., 0., 0., 0., 0., 1., 0.],\n",
       "       [0., 0., 0., 0., 0., 0., 1.]])"
      ]
     },
     "execution_count": 98,
     "metadata": {},
     "output_type": "execute_result"
    }
   ],
   "source": [
    "np.eye(3, 7, 4)"
   ]
  },
  {
   "cell_type": "code",
   "execution_count": 101,
   "id": "2351844c-7ed7-4c27-a40d-0ea33e4f07d9",
   "metadata": {},
   "outputs": [
    {
     "data": {
      "text/plain": [
       "array([[1., 1., 1., 1.],\n",
       "       [1., 1., 1., 1.],\n",
       "       [1., 1., 1., 1.]])"
      ]
     },
     "execution_count": 101,
     "metadata": {},
     "output_type": "execute_result"
    }
   ],
   "source": [
    "np.ones((3,4))"
   ]
  },
  {
   "cell_type": "code",
   "execution_count": 102,
   "id": "586b5722-13c4-4b55-b909-ea5a8846b216",
   "metadata": {},
   "outputs": [
    {
     "data": {
      "text/plain": [
       "array([[0., 0., 0., 0., 0., 0.],\n",
       "       [0., 0., 0., 0., 0., 0.],\n",
       "       [0., 0., 0., 0., 0., 0.]])"
      ]
     },
     "execution_count": 102,
     "metadata": {},
     "output_type": "execute_result"
    }
   ],
   "source": [
    "np.zeros((3,6))"
   ]
  },
  {
   "cell_type": "markdown",
   "id": "c181ec6f-4255-4bc4-9c31-44979c161121",
   "metadata": {},
   "source": [
    "#### Split\n",
    "* split function is used to split the numpy array into multiple arrays"
   ]
  },
  {
   "cell_type": "code",
   "execution_count": 104,
   "id": "cc8be198-70eb-4009-b64a-80638e129bc2",
   "metadata": {},
   "outputs": [
    {
     "data": {
      "text/plain": [
       "array([[ 1,  2,  3,  4,  5,  6,  7,  8],\n",
       "       [ 9, 10, 11, 12, 13, 14, 15, 16],\n",
       "       [17, 18, 19, 20, 21, 22, 23, 24]])"
      ]
     },
     "execution_count": 104,
     "metadata": {},
     "output_type": "execute_result"
    }
   ],
   "source": [
    "arr6"
   ]
  },
  {
   "cell_type": "code",
   "execution_count": 106,
   "id": "39b64e83-7dda-42d5-8cb6-013d373d9c9f",
   "metadata": {},
   "outputs": [
    {
     "data": {
      "text/plain": [
       "[array([[1, 2, 3, 4, 5, 6, 7, 8]]),\n",
       " array([[ 9, 10, 11, 12, 13, 14, 15, 16]]),\n",
       " array([[17, 18, 19, 20, 21, 22, 23, 24]])]"
      ]
     },
     "execution_count": 106,
     "metadata": {},
     "output_type": "execute_result"
    }
   ],
   "source": [
    "np.split(arr6, (1, 2))"
   ]
  },
  {
   "cell_type": "code",
   "execution_count": 116,
   "id": "0191f8cb-2d38-4b53-ab0a-d1809ed0a8da",
   "metadata": {},
   "outputs": [],
   "source": [
    "arr12 = np.linspace(1, 100, 100, dtype=\"int\"). reshape(10,10)"
   ]
  },
  {
   "cell_type": "code",
   "execution_count": 117,
   "id": "5f03deda-c734-4c53-a90d-02e9a9b2144f",
   "metadata": {},
   "outputs": [
    {
     "data": {
      "text/plain": [
       "array([[  1,   2,   3,   4,   5,   6,   7,   8,   9,  10],\n",
       "       [ 11,  12,  13,  14,  15,  16,  17,  18,  19,  20],\n",
       "       [ 21,  22,  23,  24,  25,  26,  27,  28,  29,  30],\n",
       "       [ 31,  32,  33,  34,  35,  36,  37,  38,  39,  40],\n",
       "       [ 41,  42,  43,  44,  45,  46,  47,  48,  49,  50],\n",
       "       [ 51,  52,  53,  54,  55,  56,  57,  58,  59,  60],\n",
       "       [ 61,  62,  63,  64,  65,  66,  67,  68,  69,  70],\n",
       "       [ 71,  72,  73,  74,  75,  76,  77,  78,  79,  80],\n",
       "       [ 81,  82,  83,  84,  85,  86,  87,  88,  89,  90],\n",
       "       [ 91,  92,  93,  94,  95,  96,  97,  98,  99, 100]])"
      ]
     },
     "execution_count": 117,
     "metadata": {},
     "output_type": "execute_result"
    }
   ],
   "source": [
    "arr12"
   ]
  },
  {
   "cell_type": "code",
   "execution_count": 128,
   "id": "e54fe610-7185-44cf-b2e6-bb2f996310e4",
   "metadata": {},
   "outputs": [
    {
     "data": {
      "text/plain": [
       "[array([[ 1,  2,  3,  4,  5,  6,  7,  8,  9, 10],\n",
       "        [11, 12, 13, 14, 15, 16, 17, 18, 19, 20],\n",
       "        [21, 22, 23, 24, 25, 26, 27, 28, 29, 30]]),\n",
       " array([[31, 32, 33, 34, 35, 36, 37, 38, 39, 40],\n",
       "        [41, 42, 43, 44, 45, 46, 47, 48, 49, 50],\n",
       "        [51, 52, 53, 54, 55, 56, 57, 58, 59, 60]]),\n",
       " array([[ 61,  62,  63,  64,  65,  66,  67,  68,  69,  70],\n",
       "        [ 71,  72,  73,  74,  75,  76,  77,  78,  79,  80],\n",
       "        [ 81,  82,  83,  84,  85,  86,  87,  88,  89,  90],\n",
       "        [ 91,  92,  93,  94,  95,  96,  97,  98,  99, 100]])]"
      ]
     },
     "execution_count": 128,
     "metadata": {},
     "output_type": "execute_result"
    }
   ],
   "source": [
    "np.split(arr12, [3, 6])"
   ]
  },
  {
   "cell_type": "code",
   "execution_count": 119,
   "id": "0815602d-a82a-4dd8-a784-6564efb809aa",
   "metadata": {},
   "outputs": [
    {
     "data": {
      "text/plain": [
       "[array([[ 1,  2,  3,  4,  5,  6,  7,  8,  9, 10],\n",
       "        [11, 12, 13, 14, 15, 16, 17, 18, 19, 20],\n",
       "        [21, 22, 23, 24, 25, 26, 27, 28, 29, 30]]),\n",
       " array([[ 31,  32,  33,  34,  35,  36,  37,  38,  39,  40],\n",
       "        [ 41,  42,  43,  44,  45,  46,  47,  48,  49,  50],\n",
       "        [ 51,  52,  53,  54,  55,  56,  57,  58,  59,  60],\n",
       "        [ 61,  62,  63,  64,  65,  66,  67,  68,  69,  70],\n",
       "        [ 71,  72,  73,  74,  75,  76,  77,  78,  79,  80],\n",
       "        [ 81,  82,  83,  84,  85,  86,  87,  88,  89,  90],\n",
       "        [ 91,  92,  93,  94,  95,  96,  97,  98,  99, 100]])]"
      ]
     },
     "execution_count": 119,
     "metadata": {},
     "output_type": "execute_result"
    }
   ],
   "source": [
    "np.split(arr12,[3])"
   ]
  },
  {
   "cell_type": "code",
   "execution_count": 121,
   "id": "69b33dda-4a7f-4951-89ce-3ff0ad6d2028",
   "metadata": {
    "scrolled": true
   },
   "outputs": [
    {
     "data": {
      "text/plain": [
       "[array([[ 1,  2],\n",
       "        [11, 12],\n",
       "        [21, 22],\n",
       "        [31, 32],\n",
       "        [41, 42],\n",
       "        [51, 52],\n",
       "        [61, 62],\n",
       "        [71, 72],\n",
       "        [81, 82],\n",
       "        [91, 92]]),\n",
       " array([[ 3,  4],\n",
       "        [13, 14],\n",
       "        [23, 24],\n",
       "        [33, 34],\n",
       "        [43, 44],\n",
       "        [53, 54],\n",
       "        [63, 64],\n",
       "        [73, 74],\n",
       "        [83, 84],\n",
       "        [93, 94]]),\n",
       " array([[ 5,  6],\n",
       "        [15, 16],\n",
       "        [25, 26],\n",
       "        [35, 36],\n",
       "        [45, 46],\n",
       "        [55, 56],\n",
       "        [65, 66],\n",
       "        [75, 76],\n",
       "        [85, 86],\n",
       "        [95, 96]]),\n",
       " array([[ 7,  8],\n",
       "        [17, 18],\n",
       "        [27, 28],\n",
       "        [37, 38],\n",
       "        [47, 48],\n",
       "        [57, 58],\n",
       "        [67, 68],\n",
       "        [77, 78],\n",
       "        [87, 88],\n",
       "        [97, 98]]),\n",
       " array([[  9,  10],\n",
       "        [ 19,  20],\n",
       "        [ 29,  30],\n",
       "        [ 39,  40],\n",
       "        [ 49,  50],\n",
       "        [ 59,  60],\n",
       "        [ 69,  70],\n",
       "        [ 79,  80],\n",
       "        [ 89,  90],\n",
       "        [ 99, 100]])]"
      ]
     },
     "execution_count": 121,
     "metadata": {},
     "output_type": "execute_result"
    }
   ],
   "source": [
    "np.split(arr12, [2,4,6,8], axis=1)"
   ]
  },
  {
   "cell_type": "code",
   "execution_count": 123,
   "id": "0f720b0d-38ba-402b-9a71-755ada195925",
   "metadata": {},
   "outputs": [],
   "source": [
    "sp1, sp2, sp3 = np.split(arr12, [4, 7], axis=1)"
   ]
  },
  {
   "cell_type": "code",
   "execution_count": 124,
   "id": "3180ee6f-dcd0-4a1c-a37a-899a7429d2b1",
   "metadata": {},
   "outputs": [
    {
     "data": {
      "text/plain": [
       "array([[ 1,  2,  3,  4],\n",
       "       [11, 12, 13, 14],\n",
       "       [21, 22, 23, 24],\n",
       "       [31, 32, 33, 34],\n",
       "       [41, 42, 43, 44],\n",
       "       [51, 52, 53, 54],\n",
       "       [61, 62, 63, 64],\n",
       "       [71, 72, 73, 74],\n",
       "       [81, 82, 83, 84],\n",
       "       [91, 92, 93, 94]])"
      ]
     },
     "execution_count": 124,
     "metadata": {},
     "output_type": "execute_result"
    }
   ],
   "source": [
    "sp1"
   ]
  },
  {
   "cell_type": "code",
   "execution_count": 125,
   "id": "08263fcf-6c75-4400-9bb5-1a2ac92d3340",
   "metadata": {},
   "outputs": [
    {
     "data": {
      "text/plain": [
       "array([[ 5,  6,  7],\n",
       "       [15, 16, 17],\n",
       "       [25, 26, 27],\n",
       "       [35, 36, 37],\n",
       "       [45, 46, 47],\n",
       "       [55, 56, 57],\n",
       "       [65, 66, 67],\n",
       "       [75, 76, 77],\n",
       "       [85, 86, 87],\n",
       "       [95, 96, 97]])"
      ]
     },
     "execution_count": 125,
     "metadata": {},
     "output_type": "execute_result"
    }
   ],
   "source": [
    "sp2"
   ]
  },
  {
   "cell_type": "code",
   "execution_count": 126,
   "id": "e1291dac-fe4f-418f-b29a-259713120012",
   "metadata": {},
   "outputs": [
    {
     "data": {
      "text/plain": [
       "array([[  8,   9,  10],\n",
       "       [ 18,  19,  20],\n",
       "       [ 28,  29,  30],\n",
       "       [ 38,  39,  40],\n",
       "       [ 48,  49,  50],\n",
       "       [ 58,  59,  60],\n",
       "       [ 68,  69,  70],\n",
       "       [ 78,  79,  80],\n",
       "       [ 88,  89,  90],\n",
       "       [ 98,  99, 100]])"
      ]
     },
     "execution_count": 126,
     "metadata": {},
     "output_type": "execute_result"
    }
   ],
   "source": [
    "sp3"
   ]
  },
  {
   "cell_type": "code",
   "execution_count": null,
   "id": "9ef0df27-aa78-432e-8c01-5dae68083f28",
   "metadata": {},
   "outputs": [],
   "source": [
    "sp1, sp2, sp3 = np.split(arr12, [4, 7], axis=1)"
   ]
  }
 ],
 "metadata": {
  "kernelspec": {
   "display_name": "Python 3 (ipykernel)",
   "language": "python",
   "name": "python3"
  },
  "language_info": {
   "codemirror_mode": {
    "name": "ipython",
    "version": 3
   },
   "file_extension": ".py",
   "mimetype": "text/x-python",
   "name": "python",
   "nbconvert_exporter": "python",
   "pygments_lexer": "ipython3",
   "version": "3.12.0"
  }
 },
 "nbformat": 4,
 "nbformat_minor": 5
}
